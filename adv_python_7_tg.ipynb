{
 "cells": [
  {
   "cell_type": "code",
   "execution_count": 1,
   "id": "187ab68d",
   "metadata": {},
   "outputs": [
    {
     "name": "stdout",
     "output_type": "stream",
     "text": [
      "Requirement already satisfied: python-dotenv in c:\\users\\user\\anaconda3\\lib\\site-packages (0.21.0)\n",
      "Note: you may need to restart the kernel to use updated packages.\n"
     ]
    }
   ],
   "source": [
    "pip install python-dotenv"
   ]
  },
  {
   "cell_type": "code",
   "execution_count": 4,
   "id": "16752a66",
   "metadata": {},
   "outputs": [],
   "source": [
    "!pip install pydantic -q"
   ]
  },
  {
   "cell_type": "code",
   "execution_count": 6,
   "id": "2c3a19e1",
   "metadata": {},
   "outputs": [],
   "source": [
    "!pip install pydantic_settings -q"
   ]
  },
  {
   "cell_type": "code",
   "execution_count": 1,
   "id": "c8511949",
   "metadata": {},
   "outputs": [
    {
     "ename": "ModuleNotFoundError",
     "evalue": "No module named 'aiogram'",
     "output_type": "error",
     "traceback": [
      "\u001b[1;31m---------------------------------------------------------------------------\u001b[0m",
      "\u001b[1;31mModuleNotFoundError\u001b[0m                       Traceback (most recent call last)",
      "Cell \u001b[1;32mIn[1], line 1\u001b[0m\n\u001b[1;32m----> 1\u001b[0m \u001b[38;5;28;01mfrom\u001b[39;00m \u001b[38;5;21;01maiogram\u001b[39;00m \u001b[38;5;28;01mimport\u001b[39;00m Bot, Dispatcher, types, Router, F\n\u001b[0;32m      2\u001b[0m \u001b[38;5;28;01mfrom\u001b[39;00m \u001b[38;5;21;01maiogram\u001b[39;00m\u001b[38;5;21;01m.\u001b[39;00m\u001b[38;5;21;01mtypes\u001b[39;00m \u001b[38;5;28;01mimport\u001b[39;00m Message\n\u001b[0;32m      3\u001b[0m \u001b[38;5;28;01mfrom\u001b[39;00m \u001b[38;5;21;01maiogram\u001b[39;00m\u001b[38;5;21;01m.\u001b[39;00m\u001b[38;5;21;01mfilters\u001b[39;00m \u001b[38;5;28;01mimport\u001b[39;00m Command\n",
      "\u001b[1;31mModuleNotFoundError\u001b[0m: No module named 'aiogram'"
     ]
    }
   ],
   "source": [
    "from aiogram import Bot, Dispatcher, types, Router, F\n",
    "from aiogram.types import Message\n",
    "from aiogram.filters import Command\n",
    "from aiogram.enums import ParseMode\n",
    "import logging\n",
    "from aiogram.filters.command import Command\n",
    "import asyncio\n",
    "from aiogram.enums.dice_emoji import DiceEmoji\n",
    "from datetime import datetime\n",
    "from pydantic_settings import BaseSettings, SettingsConfigDict\n",
    "from pydantic import SecretStr"
   ]
  },
  {
   "cell_type": "code",
   "execution_count": 2,
   "id": "5841e461",
   "metadata": {
    "scrolled": true
   },
   "outputs": [
    {
     "name": "stderr",
     "output_type": "stream",
     "text": [
      "INFO:aiogram.dispatcher:Start polling\n",
      "INFO:aiogram.dispatcher:Run polling for bot @ml_movs_bot id=6707971087 - 'ml_test_bot'\n",
      "INFO:aiogram.event:Update id=910512834 is handled. Duration 266 ms by bot id=6707971087\n",
      "INFO:aiogram.dispatcher:Polling stopped\n"
     ]
    },
    {
     "ename": "CancelledError",
     "evalue": "",
     "output_type": "error",
     "traceback": [
      "\u001b[1;31m---------------------------------------------------------------------------\u001b[0m",
      "\u001b[1;31mCancelledError\u001b[0m                            Traceback (most recent call last)",
      "Cell \u001b[1;32mIn[2], line 67\u001b[0m\n\u001b[0;32m     64\u001b[0m     \u001b[38;5;28;01mawait\u001b[39;00m dp\u001b[38;5;241m.\u001b[39mstart_polling(bot, mylist\u001b[38;5;241m=\u001b[39m[\u001b[38;5;241m1\u001b[39m, \u001b[38;5;241m2\u001b[39m, \u001b[38;5;241m3\u001b[39m])\n\u001b[0;32m     66\u001b[0m \u001b[38;5;66;03m#asyncio.run(main)\u001b[39;00m\n\u001b[1;32m---> 67\u001b[0m \u001b[38;5;28;01mawait\u001b[39;00m main()\n",
      "Cell \u001b[1;32mIn[2], line 64\u001b[0m, in \u001b[0;36mmain\u001b[1;34m()\u001b[0m\n\u001b[0;32m     63\u001b[0m \u001b[38;5;28;01masync\u001b[39;00m \u001b[38;5;28;01mdef\u001b[39;00m \u001b[38;5;21mmain\u001b[39m():\n\u001b[1;32m---> 64\u001b[0m     \u001b[38;5;28;01mawait\u001b[39;00m dp\u001b[38;5;241m.\u001b[39mstart_polling(bot, mylist\u001b[38;5;241m=\u001b[39m[\u001b[38;5;241m1\u001b[39m, \u001b[38;5;241m2\u001b[39m, \u001b[38;5;241m3\u001b[39m])\n",
      "File \u001b[1;32m~\\anaconda3\\Lib\\site-packages\\aiogram\\dispatcher\\dispatcher.py:543\u001b[0m, in \u001b[0;36mDispatcher.start_polling\u001b[1;34m(self, polling_timeout, handle_as_tasks, backoff_config, allowed_updates, handle_signals, close_bot_session, *bots, **kwargs)\u001b[0m\n\u001b[0;32m    529\u001b[0m tasks: List[asyncio\u001b[38;5;241m.\u001b[39mTask[Any]] \u001b[38;5;241m=\u001b[39m [\n\u001b[0;32m    530\u001b[0m     asyncio\u001b[38;5;241m.\u001b[39mcreate_task(\n\u001b[0;32m    531\u001b[0m         \u001b[38;5;28mself\u001b[39m\u001b[38;5;241m.\u001b[39m_polling(\n\u001b[1;32m   (...)\u001b[0m\n\u001b[0;32m    540\u001b[0m     \u001b[38;5;28;01mfor\u001b[39;00m bot \u001b[38;5;129;01min\u001b[39;00m bots\n\u001b[0;32m    541\u001b[0m ]\n\u001b[0;32m    542\u001b[0m tasks\u001b[38;5;241m.\u001b[39mappend(asyncio\u001b[38;5;241m.\u001b[39mcreate_task(\u001b[38;5;28mself\u001b[39m\u001b[38;5;241m.\u001b[39m_stop_signal\u001b[38;5;241m.\u001b[39mwait()))\n\u001b[1;32m--> 543\u001b[0m done, pending \u001b[38;5;241m=\u001b[39m \u001b[38;5;28;01mawait\u001b[39;00m asyncio\u001b[38;5;241m.\u001b[39mwait(tasks, return_when\u001b[38;5;241m=\u001b[39masyncio\u001b[38;5;241m.\u001b[39mFIRST_COMPLETED)\n\u001b[0;32m    545\u001b[0m \u001b[38;5;28;01mfor\u001b[39;00m task \u001b[38;5;129;01min\u001b[39;00m pending:\n\u001b[0;32m    546\u001b[0m     \u001b[38;5;66;03m# (mostly) Graceful shutdown unfinished tasks\u001b[39;00m\n\u001b[0;32m    547\u001b[0m     task\u001b[38;5;241m.\u001b[39mcancel()\n",
      "File \u001b[1;32m~\\anaconda3\\Lib\\asyncio\\tasks.py:418\u001b[0m, in \u001b[0;36mwait\u001b[1;34m(fs, timeout, return_when)\u001b[0m\n\u001b[0;32m    415\u001b[0m     \u001b[38;5;28;01mraise\u001b[39;00m \u001b[38;5;167;01mTypeError\u001b[39;00m(\u001b[38;5;124m\"\u001b[39m\u001b[38;5;124mPassing coroutines is forbidden, use tasks explicitly.\u001b[39m\u001b[38;5;124m\"\u001b[39m)\n\u001b[0;32m    417\u001b[0m loop \u001b[38;5;241m=\u001b[39m events\u001b[38;5;241m.\u001b[39mget_running_loop()\n\u001b[1;32m--> 418\u001b[0m \u001b[38;5;28;01mreturn\u001b[39;00m \u001b[38;5;28;01mawait\u001b[39;00m _wait(fs, timeout, return_when, loop)\n",
      "File \u001b[1;32m~\\anaconda3\\Lib\\asyncio\\tasks.py:525\u001b[0m, in \u001b[0;36m_wait\u001b[1;34m(fs, timeout, return_when, loop)\u001b[0m\n\u001b[0;32m    522\u001b[0m     f\u001b[38;5;241m.\u001b[39madd_done_callback(_on_completion)\n\u001b[0;32m    524\u001b[0m \u001b[38;5;28;01mtry\u001b[39;00m:\n\u001b[1;32m--> 525\u001b[0m     \u001b[38;5;28;01mawait\u001b[39;00m waiter\n\u001b[0;32m    526\u001b[0m \u001b[38;5;28;01mfinally\u001b[39;00m:\n\u001b[0;32m    527\u001b[0m     \u001b[38;5;28;01mif\u001b[39;00m timeout_handle \u001b[38;5;129;01mis\u001b[39;00m \u001b[38;5;129;01mnot\u001b[39;00m \u001b[38;5;28;01mNone\u001b[39;00m:\n",
      "\u001b[1;31mCancelledError\u001b[0m: "
     ]
    }
   ],
   "source": [
    "logging.basicConfig(level=logging.INFO)\n",
    "\n",
    "#Объект бота\n",
    "bot = Bot(token=\"6707971087:AAGiCM7HKVAG2zziawqNqr3XAJpNNtxIBjE\")\n",
    "\n",
    "#Диспетчер\n",
    "dp = Dispatcher()\n",
    "dp[\"started_at\"] = datetime.now().strftime(\"%Y-%m-%d %H:%M\")\n",
    "\n",
    "await bot.delete_webhook()\n",
    "@dp.message(Command(\"start\"))\n",
    "async def cmd_start(message: types.Message):\n",
    "    await message.answer(\"Hello!\")\n",
    "\n",
    "\n",
    "@dp.message(Command(\"hello\"))\n",
    "async def cmd_hello(message: Message):\n",
    "    await message.answer(\n",
    "        f\"Hello, <b>{message.from_user.full_name}</b>\",\n",
    "        parse_mode=ParseMode.HTML\n",
    "    )\n",
    "\n",
    "@dp.message(F.text, Command(\"test\"))\n",
    "async def any_message(message: Message):\n",
    "    await message.answer(\n",
    "        \"Hello, <b>world</b>!\", \n",
    "        parse_mode=ParseMode.HTML\n",
    "    )\n",
    "    await message.answer(\n",
    "        \"Hello, *world*\\!\", \n",
    "        parse_mode=ParseMode.MARKDOWN_V2\n",
    "    )\n",
    "\n",
    "# Хэндлер на команду /test1\n",
    "@dp.message(Command(\"test1\"))\n",
    "async def cmd_test1(message: types.Message):\n",
    "    await message.reply(\"Test 1\")\n",
    "\n",
    "# Хэндлер на команду /test2\n",
    "@dp.message(Command(\"test2\"))\n",
    "async def cmd_test2(message: types.Message):\n",
    "    await message.reply(\"Test 2\")\n",
    "\n",
    "@dp.message(Command(\"dice\"))\n",
    "async def cmd_dice(message: types.Message):\n",
    "    await message.answer_dice(emoji=\"🎲\")\n",
    "    \n",
    "@dp.message(Command(\"add_to_list\"))\n",
    "async def cmd_add_to_list(message: types.Message, mylist: list[int]):\n",
    "    mylist.append(7)\n",
    "    await message.answer(\"Добавлено число 7\")\n",
    "\n",
    "\n",
    "@dp.message(Command(\"show_list\"))\n",
    "async def cmd_show_list(message: types.Message, mylist: list[int]):\n",
    "    await message.answer(f\"Ваш список: {mylist}\")\n",
    "\n",
    "\n",
    "@dp.message(Command(\"info\"))\n",
    "async def cmd_info(message: types.Message, started_at: str):\n",
    "    await message.answer(f\"Бот запущен {started_at}\")\n",
    "    \n",
    "async def main():\n",
    "    await dp.start_polling(bot, mylist=[1, 2, 3])\n",
    "\n",
    "#asyncio.run(main)\n",
    "await main()"
   ]
  },
  {
   "cell_type": "code",
   "execution_count": null,
   "id": "1e5a4d34",
   "metadata": {},
   "outputs": [],
   "source": []
  },
  {
   "cell_type": "code",
   "execution_count": null,
   "id": "501e8429",
   "metadata": {},
   "outputs": [],
   "source": []
  },
  {
   "cell_type": "code",
   "execution_count": null,
   "id": "25273cde",
   "metadata": {},
   "outputs": [],
   "source": []
  },
  {
   "cell_type": "code",
   "execution_count": null,
   "id": "48a6ee71",
   "metadata": {},
   "outputs": [],
   "source": []
  }
 ],
 "metadata": {
  "kernelspec": {
   "display_name": "Python 3 (ipykernel)",
   "language": "python",
   "name": "python3"
  },
  "language_info": {
   "codemirror_mode": {
    "name": "ipython",
    "version": 3
   },
   "file_extension": ".py",
   "mimetype": "text/x-python",
   "name": "python",
   "nbconvert_exporter": "python",
   "pygments_lexer": "ipython3",
   "version": "3.11.5"
  }
 },
 "nbformat": 4,
 "nbformat_minor": 5
}
